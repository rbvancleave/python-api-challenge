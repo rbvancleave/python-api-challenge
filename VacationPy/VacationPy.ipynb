{
 "cells": [
  {
   "cell_type": "code",
   "execution_count": 1,
   "metadata": {},
   "outputs": [],
   "source": [
    "# Dependencies and Setup\n",
    "import matplotlib.pyplot as plt\n",
    "import pandas as pd\n",
    "import numpy as np\n",
    "import requests\n",
    "import gmaps\n",
    "import os\n",
    "\n",
    "# Import API key\n",
    "from config import g_key"
   ]
  },
  {
   "cell_type": "code",
   "execution_count": 2,
   "metadata": {},
   "outputs": [],
   "source": [
    "# Dependencies and Setup\n",
    "import time\n",
    "from scipy.stats import linregress\n",
    "import warnings\n",
    "warnings.filterwarnings('ignore')"
   ]
  },
  {
   "cell_type": "code",
   "execution_count": 3,
   "metadata": {},
   "outputs": [],
   "source": [
    "gmaps.configure(api_key=g_key)"
   ]
  },
  {
   "cell_type": "code",
   "execution_count": 4,
   "metadata": {},
   "outputs": [],
   "source": [
    "df = pd.read_csv('C:/Users/rbvan/Desktop/python-api-challenge/output_data/cities.csv')"
   ]
  },
  {
   "cell_type": "code",
   "execution_count": 5,
   "metadata": {},
   "outputs": [],
   "source": [
    "# Store latitude and longitude in locations\n",
    "locations = df[['Lat', 'Lng']]\n",
    "\n",
    "# Fill NaN values and convert to float\n",
    "rating = df['Humidity'].astype(float)"
   ]
  },
  {
   "cell_type": "code",
   "execution_count": 6,
   "metadata": {},
   "outputs": [
    {
     "data": {
      "text/plain": [
       "count    545.000000\n",
       "mean      70.133945\n",
       "std       20.603185\n",
       "min       14.000000\n",
       "25%       58.000000\n",
       "50%       74.000000\n",
       "75%       86.000000\n",
       "max      100.000000\n",
       "Name: Humidity, dtype: float64"
      ]
     },
     "execution_count": 6,
     "metadata": {},
     "output_type": "execute_result"
    }
   ],
   "source": [
    "# Quick review of humidity metrics\n",
    "rating.describe()"
   ]
  },
  {
   "cell_type": "code",
   "execution_count": 7,
   "metadata": {},
   "outputs": [
    {
     "data": {
      "application/vnd.jupyter.widget-view+json": {
       "model_id": "a5fb8fe0bd7743aebb278e5b1281d310",
       "version_major": 2,
       "version_minor": 0
      },
      "text/plain": [
       "Figure(layout=FigureLayout(height='420px'))"
      ]
     },
     "metadata": {},
     "output_type": "display_data"
    }
   ],
   "source": [
    "# Plot innitial heat map with humidity\n",
    "fig = gmaps.figure()\n",
    "hm_layer = gmaps.heatmap_layer(locations,weights=rating,max_intensity=100,dissipating=False,point_radius=1.2)\n",
    "fig.add_layer(hm_layer)\n",
    "fig"
   ]
  },
  {
   "cell_type": "code",
   "execution_count": 8,
   "metadata": {},
   "outputs": [],
   "source": [
    "# Create Data Fram with ideal weather conditions (temp between 70-80, less than 10 mph wind speed, and 0 cloudiness)\n",
    "\n",
    "hotel_df = df[(df['Max Temp'] > 70) & (df['Max Temp'] < 80) & (df['Wind Speed'] < 10) & (df['Cloudiness'] == 0)]\n",
    "hotel_df['Hotel Name'] = ''"
   ]
  },
  {
   "cell_type": "code",
   "execution_count": 9,
   "metadata": {},
   "outputs": [],
   "source": [
    "locations = hotel_df[[\"Lat\", \"Lng\"]]"
   ]
  },
  {
   "cell_type": "code",
   "execution_count": 10,
   "metadata": {},
   "outputs": [
    {
     "name": "stdout",
     "output_type": "stream",
     "text": [
      "Hotel Found\n",
      "Hotel Found\n",
      "Hotel Found\n",
      "Missing field/result... skipping.\n",
      "Hotel Found\n",
      "Hotel Found\n",
      "Hotel Found\n",
      "Hotel Found\n",
      "Hotel Found\n",
      "Hotel Found\n",
      "Hotel Found\n",
      "Hotel Found\n"
     ]
    }
   ],
   "source": [
    "# params dictionary to update each iteration\n",
    "params = {\n",
    "    \"radius\": 100000,\n",
    "    \"types\": \"lodging\",\n",
    "    \"keyword\": \"hotel\",\n",
    "    \"key\": g_key\n",
    "}\n",
    "\n",
    "# Use the lat/lng we recovered to identify airports\n",
    "# change location each iteration while leaving original params in place\n",
    "# Include except for potential errors, print when hotel data is collected\n",
    "for index, row in hotel_df.iterrows():\n",
    "    lat = row[\"Lat\"]\n",
    "    lng = row[\"Lng\"]\n",
    "    params[\"location\"] = f\"{lat},{lng}\"\n",
    "\n",
    "    base_url = \"https://maps.googleapis.com/maps/api/place/nearbysearch/json\"\n",
    "    name_address = requests.get(base_url, params=params)\n",
    "    name_address = name_address.json()\n",
    "    \n",
    "    try:\n",
    "        hotel_df.loc[index, \"Hotel Name\"] = (name_address['results'][0][\"name\"])\n",
    "        print('Hotel Found')\n",
    "    except (KeyError, IndexError):\n",
    "        print(\"Missing field/result... skipping.\")"
   ]
  },
  {
   "cell_type": "code",
   "execution_count": 11,
   "metadata": {},
   "outputs": [],
   "source": [
    "# Using the template add the hotel marks to the heatmap\n",
    "info_box_template = \"\"\"\n",
    "<dl>\n",
    "<dt>Name</dt><dd>{Hotel Name}</dd>\n",
    "<dt>City</dt><dd>{City}</dd>\n",
    "<dt>Country</dt><dd>{Country}</dd>\n",
    "</dl>\n",
    "\"\"\"\n",
    "# Store the DataFrame Row\n",
    "# NOTE: be sure to update with your DataFrame name\n",
    "hotel_info = [info_box_template.format(**row) for index, row in hotel_df.iterrows()]\n",
    "locations = hotel_df[[\"Lat\", \"Lng\"]]"
   ]
  },
  {
   "cell_type": "code",
   "execution_count": 12,
   "metadata": {},
   "outputs": [
    {
     "data": {
      "application/vnd.jupyter.widget-view+json": {
       "model_id": "a5fb8fe0bd7743aebb278e5b1281d310",
       "version_major": 2,
       "version_minor": 0
      },
      "text/plain": [
       "Figure(layout=FigureLayout(height='420px'))"
      ]
     },
     "metadata": {},
     "output_type": "display_data"
    }
   ],
   "source": [
    "# Adding new layer on map for markers with hotel/city/country info\n",
    "markers = gmaps.marker_layer(locations,info_box_content=hotel_info)\n",
    "# Add the layer to the map\n",
    "fig.add_layer(markers)\n",
    "fig"
   ]
  },
  {
   "cell_type": "code",
   "execution_count": null,
   "metadata": {},
   "outputs": [],
   "source": []
  }
 ],
 "metadata": {
  "kernelspec": {
   "display_name": "PythonData",
   "language": "python",
   "name": "pythondata"
  },
  "language_info": {
   "codemirror_mode": {
    "name": "ipython",
    "version": 3
   },
   "file_extension": ".py",
   "mimetype": "text/x-python",
   "name": "python",
   "nbconvert_exporter": "python",
   "pygments_lexer": "ipython3",
   "version": "3.6.10"
  }
 },
 "nbformat": 4,
 "nbformat_minor": 4
}
